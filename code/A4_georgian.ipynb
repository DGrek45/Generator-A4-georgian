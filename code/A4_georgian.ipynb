{
  "nbformat": 4,
  "nbformat_minor": 0,
  "metadata": {
    "colab": {
      "provenance": []
    },
    "kernelspec": {
      "name": "python3",
      "display_name": "Python 3"
    },
    "language_info": {
      "name": "python"
    }
  },
  "cells": [
    {
      "cell_type": "code",
      "source": [
        "from PIL import Image\n",
        "from PIL import ImageDraw\n",
        "from PIL import ImageFont\n",
        "from PIL import ImageFilter\n",
        "from IPython.display import display\n",
        "import random\n",
        "import string\n",
        "from typing import Tuple\n",
        "import numpy as np\n",
        "from scipy.spatial import Delaunay"
      ],
      "metadata": {
        "id": "YqNFRCZsxWRA"
      },
      "execution_count": null,
      "outputs": []
    },
    {
      "cell_type": "code",
      "source": [
        "def word_size(word: str, font) -> Tuple[int, int]:\n",
        "  bbox = font.getbbox(word)\n",
        "  return bbox[2]-bbox[0], bbox[3]-bbox[1]"
      ],
      "metadata": {
        "id": "KHBh0hO26Xwe"
      },
      "execution_count": null,
      "outputs": []
    },
    {
      "cell_type": "code",
      "source": [
        "def coffee_print(paper: Image.Image) -> Image.Image:\n",
        "  paper_rgba = paper.convert(\"RGBA\")\n",
        "  print_of_coffee = Image.new(\"RGBA\",  paper.size, (255,255,255,0))\n",
        "  draw = ImageDraw.Draw(print_of_coffee)\n",
        "  x = random.randint(0, paper.size[0] - 150)\n",
        "  y = random.randint(0, paper.size[1] - 150)\n",
        "  draw.ellipse([x, y, x+300, y+300], outline=(111, 78, 55, 140), width = 10)\n",
        "  paper_with_print = Image.alpha_composite(paper_rgba, print_of_coffee)\n",
        "  mask = Image.new('L', paper.size, 0)\n",
        "  draw = ImageDraw.Draw(mask)\n",
        "  draw.ellipse([x, y, x+300, y+300], outline=255, width=10)\n",
        "  blured = paper_with_print.filter(ImageFilter.GaussianBlur(0.8))\n",
        "  result = Image.composite(blured, paper_with_print, mask)\n",
        "  return result"
      ],
      "metadata": {
        "id": "oDTRC_RVhbeF"
      },
      "execution_count": null,
      "outputs": []
    },
    {
      "cell_type": "code",
      "source": [
        "def splashes(paper: Image.Image) -> Image.Image:\n",
        "  points = np.random.randint(0, [paper.width, paper.height], size=(random.randint(250, 500), 2))\n",
        "  col_of_spl = [(152, 0, 2, 140), (111, 78, 55, 140)]\n",
        "  paper_rgba = paper.convert(\"RGBA\")\n",
        "  spot = Image.new(\"RGBA\", paper.size, (255, 255, 255, 0))\n",
        "  draw = ImageDraw.Draw(spot)\n",
        "  mask = Image.new('L', paper.size, 0)\n",
        "  draw_mask = ImageDraw.Draw(mask)\n",
        "  col = random.choice(col_of_spl)\n",
        "  for p in points:\n",
        "    x = p[0]\n",
        "    y = p[1]\n",
        "    splSize = random.randint(5, 30)\n",
        "    draw.ellipse([x, y, x+splSize, y+splSize], fill = col)\n",
        "    draw_mask.ellipse([x, y, x+splSize, y+splSize], fill=255, outline=255)\n",
        "  spot = Image.alpha_composite(paper_rgba, spot)\n",
        "  blured = spot.filter(ImageFilter.GaussianBlur(0.8))\n",
        "  result = Image.composite(blured, spot, mask)\n",
        "  return result"
      ],
      "metadata": {
        "id": "7YBimH3KUTI9"
      },
      "execution_count": null,
      "outputs": []
    },
    {
      "cell_type": "code",
      "source": [
        "def stripes(paper: Image.Image, color: Tuple[int, int, int]) -> Image.Image:\n",
        "  i = 0\n",
        "  paper_with_stripes = Image.new(\"RGBA\",  paper.size, (255,255,255,0))\n",
        "  draw = ImageDraw.Draw(paper_with_stripes)\n",
        "  paper_rgba = paper.convert(\"RGBA\")\n",
        "  while i <= paper.height:\n",
        "    i += random.randint(1, 10)\n",
        "    draw.line([(0, i), (paper.width, i)], fill = color, width = 1)\n",
        "  result = Image.alpha_composite(paper_rgba, paper_with_stripes)\n",
        "  return result"
      ],
      "metadata": {
        "id": "vCUSQFQrExbx"
      },
      "execution_count": null,
      "outputs": []
    },
    {
      "cell_type": "code",
      "source": [
        "def stripes_vertical(paper: Image.Image) -> Image.Image:\n",
        "  i = 0\n",
        "  paper_with_stripes = Image.new(\"RGBA\",  paper.size, (255,255,255,0))\n",
        "  draw = ImageDraw.Draw(paper_with_stripes)\n",
        "  paper_rgba = paper.convert(\"RGBA\")\n",
        "  while i <= paper.width:\n",
        "    if i <= 150 or i >= paper.width - 150:\n",
        "      i += random.randint(1, 5)\n",
        "      draw.line([(i, 0), (i, paper.height)], fill = 'black', width = 1)\n",
        "    else:\n",
        "      i += random.randint(1, 15)\n",
        "      draw.line([(i, 0), (i, paper.height)], fill = 'black', width = 1)\n",
        "  result = Image.alpha_composite(paper_rgba, paper_with_stripes)\n",
        "  return result"
      ],
      "metadata": {
        "id": "dlks2z-Jy0t3"
      },
      "execution_count": null,
      "outputs": []
    },
    {
      "cell_type": "code",
      "source": [
        "def crumpled_list(paper: Image.Image) -> Image.Image:\n",
        "  points = np.random.randint(0, [paper.width, paper.height], size=(random.randint(50, 1000), 2))\n",
        "  paper_rgba = paper.convert(\"RGBA\")\n",
        "  for i in range(0, paper.width + 1, 50):\n",
        "    points = np.vstack([points, [i, 0]])\n",
        "    points = np.vstack([points, [i, paper.size[1]]])\n",
        "  for j in range(0, paper.size[1], 50):\n",
        "    points = np.vstack([points, [0, j]])\n",
        "    points = np.vstack([points, [paper.height, j]])\n",
        "  tri = Delaunay(points)\n",
        "  img = Image.new('RGBA', paper.size)\n",
        "  draw = ImageDraw.Draw(img)\n",
        "  for simplex in tri.simplices:\n",
        "    polygon = [tuple(points[i]) for i in simplex]\n",
        "    if random.randint(0, 1):\n",
        "      draw.polygon(polygon, outline=(0, 0, 0, 100), width=random.randint(1, 2))\n",
        "    else:\n",
        "      draw.polygon(polygon, fill = (128, 128, 128, random.randint(40, 90)), outline=(0, 0, 0, 100), width=random.randint(1, 2))\n",
        "  result = Image.alpha_composite(paper_rgba, img)\n",
        "  return result"
      ],
      "metadata": {
        "id": "nQoZJV2X5wJG"
      },
      "execution_count": null,
      "outputs": []
    },
    {
      "cell_type": "code",
      "source": [
        "def total_bluring(paper: Image.Image) -> Image.Image:\n",
        "  result = paper.filter(ImageFilter.GaussianBlur(1.5))\n",
        "  return result"
      ],
      "metadata": {
        "id": "g1C7C_wPmx1L"
      },
      "execution_count": null,
      "outputs": []
    },
    {
      "cell_type": "code",
      "source": [
        "def local_bluring(paper: Image.Image) -> Image.Image:\n",
        "  mask = Image.new('L', paper.size, 0)\n",
        "  draw = ImageDraw.Draw(mask)\n",
        "  x = random.randint(50, paper.width - 50)\n",
        "  y = random.randint(50, paper.height - 50)\n",
        "  draw.ellipse((x, y, x + random.randint(50, 400), y + random.randint(50, 400)), fill = 255)\n",
        "  blurred = paper.filter(ImageFilter.GaussianBlur(1))\n",
        "  result = Image.composite(blurred, paper, mask)\n",
        "  return result"
      ],
      "metadata": {
        "id": "odMUIII8PFR-"
      },
      "execution_count": null,
      "outputs": []
    },
    {
      "cell_type": "code",
      "source": [
        "def rotate(paper: Image.Image) -> Image.Image:\n",
        "  result = paper.rotate(random.randint(1, 10), resample=Image.BICUBIC, expand=True, center=(random.randint(0,794), random.randint(0,1123)))\n",
        "  return result"
      ],
      "metadata": {
        "id": "9bTVu-3K8EQ7"
      },
      "execution_count": null,
      "outputs": []
    },
    {
      "cell_type": "code",
      "source": [
        "with open('/content/drive/MyDrive/Витязь(грузинский текст).txt', 'r', encoding='utf-8') as file:\n",
        "  text = file.read()\n",
        "  words = text.split()"
      ],
      "metadata": {
        "id": "zxFQ-ciJh8IF"
      },
      "execution_count": null,
      "outputs": []
    },
    {
      "cell_type": "code",
      "source": [
        "col_mas = [(224, 201, 166), (247, 240, 223), (245, 242, 232), (249, 251, 255), (219, 190, 156), (232, 220, 184), (255, 255, 255), (245, 245, 245), (248, 244, 230), (255, 255, 240), (232, 220, 202)]\n",
        "fonts = [\"/content/drive/MyDrive/NotoSerifGeorgian-VariableFont_wdth,wght.ttf\", \"/content/drive/MyDrive/NotoSansGeorgian-VariableFont_wdth,wght.ttf\"]\n",
        "color_of_paper = random.choice(col_mas)\n",
        "A4_paper = Image.new(\"RGB\",  (794, 1123), color_of_paper)\n",
        "draw = ImageDraw.Draw(A4_paper)\n",
        "font = ImageFont.truetype(random.choice(fonts), size = 18)\n",
        "text = ''\n",
        "space_width, _= word_size(\" \", font)\n",
        "indent = 48\n",
        "width = indent\n",
        "height = indent\n",
        "new_word = random.choice(words)\n",
        "W, H = word_size(new_word, font)\n",
        "while height + H <= A4_paper.height - indent + 1:\n",
        "  height += H + 6\n",
        "  while width + W <= A4_paper.width - indent + 1:\n",
        "    text += new_word + \" \"\n",
        "    width += W + space_width\n",
        "    new_word = random.choice(words)\n",
        "    W, H = word_size(new_word, font)\n",
        "  text += '\\n'\n",
        "  width = indent\n",
        "draw.text((indent,indent), text, fill=\"black\", font=font)\n",
        "A4_paper.save(\"list.png\")"
      ],
      "metadata": {
        "id": "lGt6AqnbxcJr",
        "collapsed": true
      },
      "execution_count": null,
      "outputs": []
    },
    {
      "cell_type": "code",
      "source": [
        "A4_result = coffee_print(A4_paper)\n",
        "A4_result.save('coffee.png')\n",
        "A4_result = stripes(A4_paper, color_of_paper)\n",
        "A4_result.save('horizontal_stripes.png')\n",
        "A4_result = crumpled_list(A4_paper)\n",
        "A4_result.save('crumpled.png')\n",
        "A4_result = stripes_vertical(A4_paper)\n",
        "A4_result.save('vertical_stripes.png')\n",
        "A4_result = total_bluring(A4_paper)\n",
        "A4_result.save('total_blur.png')\n",
        "A4_result = rotate(A4_paper)\n",
        "A4_result.save('rotated.png')\n",
        "A4_result = local_bluring(A4_paper)\n",
        "A4_result.save('local_blur.png')\n",
        "A4_result = splashes(A4_paper)\n",
        "A4_result.save('splashes.png')"
      ],
      "metadata": {
        "collapsed": true,
        "id": "R2QLJAJYbGc9"
      },
      "execution_count": null,
      "outputs": []
    }
  ]
}